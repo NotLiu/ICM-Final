{
 "cells": [
  {
   "cell_type": "code",
   "execution_count": 1,
   "metadata": {},
   "outputs": [],
   "source": [
    "import os,sys\n",
    "from PIL import Image\n",
    "from operator import add\n",
    "from pylab import *\n",
    "import librosa             # The librosa library\n",
    "import librosa.display     # librosa's display module (for plotting features)\n",
    "import IPython.display     # IPython's display module (for in-line audio)\n",
    "import matplotlib.pyplot as plt # matplotlib plotting functions\n",
    "import matplotlib.style as ms   # plotting style\n",
    "import numpy as np\n",
    "import random\n"
   ]
  },
  {
   "cell_type": "code",
   "execution_count": 2,
   "metadata": {
    "scrolled": true
   },
   "outputs": [
    {
     "name": "stdout",
     "output_type": "stream",
     "text": [
      "test\n"
     ]
    }
   ],
   "source": [
    "print('test')"
   ]
  },
  {
   "cell_type": "code",
   "execution_count": 8,
   "metadata": {},
   "outputs": [
    {
     "ename": "OSError",
     "evalue": "cannot identify image file 'Pie.jpg'",
     "output_type": "error",
     "traceback": [
      "\u001b[1;31m---------------------------------------------------------------------------\u001b[0m",
      "\u001b[1;31mOSError\u001b[0m                                   Traceback (most recent call last)",
      "\u001b[1;32m<ipython-input-8-536ca8b680cd>\u001b[0m in \u001b[0;36m<module>\u001b[1;34m()\u001b[0m\n\u001b[1;32m----> 1\u001b[1;33m \u001b[0mimg\u001b[0m \u001b[1;33m=\u001b[0m \u001b[0mImage\u001b[0m\u001b[1;33m.\u001b[0m\u001b[0mopen\u001b[0m\u001b[1;33m(\u001b[0m\u001b[1;34m'Pie.jpg'\u001b[0m\u001b[1;33m,\u001b[0m\u001b[1;34m'r'\u001b[0m\u001b[1;33m)\u001b[0m \u001b[1;31m#image imported\u001b[0m\u001b[1;33m\u001b[0m\u001b[0m\n\u001b[0m\u001b[0;32m      2\u001b[0m \u001b[1;33m\u001b[0m\u001b[0m\n\u001b[0;32m      3\u001b[0m \u001b[0mpix_val\u001b[0m \u001b[1;33m=\u001b[0m \u001b[0mlist\u001b[0m\u001b[1;33m(\u001b[0m\u001b[0mimg\u001b[0m\u001b[1;33m.\u001b[0m\u001b[0mgetdata\u001b[0m\u001b[1;33m(\u001b[0m\u001b[1;33m)\u001b[0m\u001b[1;33m)\u001b[0m\u001b[1;33m\u001b[0m\u001b[0m\n\u001b[0;32m      4\u001b[0m \u001b[1;33m\u001b[0m\u001b[0m\n\u001b[0;32m      5\u001b[0m \u001b[0md\u001b[0m \u001b[1;33m=\u001b[0m \u001b[1;33m{\u001b[0m\u001b[1;33m}\u001b[0m\u001b[1;33m\u001b[0m\u001b[0m\n",
      "\u001b[1;32m~\\Anaconda\\lib\\site-packages\\PIL\\Image.py\u001b[0m in \u001b[0;36mopen\u001b[1;34m(fp, mode)\u001b[0m\n\u001b[0;32m   2583\u001b[0m         \u001b[0mfp\u001b[0m\u001b[1;33m.\u001b[0m\u001b[0mclose\u001b[0m\u001b[1;33m(\u001b[0m\u001b[1;33m)\u001b[0m\u001b[1;33m\u001b[0m\u001b[0m\n\u001b[0;32m   2584\u001b[0m     raise IOError(\"cannot identify image file %r\"\n\u001b[1;32m-> 2585\u001b[1;33m                   % (filename if filename else fp))\n\u001b[0m\u001b[0;32m   2586\u001b[0m \u001b[1;33m\u001b[0m\u001b[0m\n\u001b[0;32m   2587\u001b[0m \u001b[1;31m#\u001b[0m\u001b[1;33m\u001b[0m\u001b[1;33m\u001b[0m\u001b[0m\n",
      "\u001b[1;31mOSError\u001b[0m: cannot identify image file 'Pie.jpg'"
     ]
    }
   ],
   "source": [
    "img = Image.open('Pie.jpg','r') #image imported\n",
    "\n",
    "pix_val = list(img.getdata())\n",
    "\n",
    "d = {}\n",
    "\n",
    "pix_sum = 0\n"
   ]
  },
  {
   "cell_type": "code",
   "execution_count": null,
   "metadata": {},
   "outputs": [],
   "source": [
    "# Pixel values, for each pixel\n",
    "\n",
    "d1 = {'R':{},'G':{},'B':{}}\n",
    "for i in pix_val: #(1,2,3)\n",
    "    index = 0\n",
    "    for j in d1: #(0:(),1:(),2:())\n",
    "        if i[index] in d1[j]:\n",
    "            d1[j][i[index]] += 1\n",
    "        else:\n",
    "            d1[j][i[index]] = 1\n",
    "        index += 1\n",
    "        \n",
    "print(pix_val,'\\n')"
   ]
  },
  {
   "cell_type": "code",
   "execution_count": null,
   "metadata": {},
   "outputs": [],
   "source": [
    "#number of pixels\n",
    "\n",
    "for i in d1:\n",
    "    for j in d1[i]:\n",
    "        pix_sum += d1[i][j]\n",
    "\n",
    "print('\\nNumber of Pixels:',pix_sum//3)"
   ]
  },
  {
   "cell_type": "code",
   "execution_count": null,
   "metadata": {},
   "outputs": [],
   "source": [
    "# Pixel values, number of values in each color\n",
    "\n",
    "r_sum = 0\n",
    "g_sum = 0\n",
    "b_sum = 0\n",
    "\n",
    "\n",
    "\n",
    "for i in d1:\n",
    "    for j in d1[i]:\n",
    "        if i == 'R':\n",
    "            r_sum += d1[i][j]*j\n",
    "        elif i == 'G':\n",
    "            g_sum += d1[i][j]*j\n",
    "        elif i == 'B':\n",
    "            b_sum += d1[i][j]*j\n",
    "\n",
    "print('\\nSum of Red values: ')\n",
    "print(r_sum)\n",
    "\n",
    "print('\\nSum of Green values: ')\n",
    "print(g_sum)\n",
    "\n",
    "print('\\nSum of Blue values: ')\n",
    "print(b_sum)\n"
   ]
  },
  {
   "cell_type": "code",
   "execution_count": null,
   "metadata": {},
   "outputs": [],
   "source": [
    "#Voluntary interpolation\n",
    "\n",
    "def cos_wave(A, f, t, sr):\n",
    "    return [A * cos(2*pi*f*t) for t in arange(0.,t,1./sr)]\n",
    "\n",
    "f0 = pix_sum//10000;\n",
    "\n",
    "yy = []\n",
    "for i in pix_val:\n",
    "    if max(i) == i[0]: #biggest value of pixel is Red\n",
    "        y = cos_wave(random.random(), i[0], random.random(), f0)\n",
    "    if max(i) == i[1]:  # biggest value of pixel is Blue\n",
    "        y = cos_wave(random.random(), i[1], random.random(), f0)\n",
    "    if max(i) == i[2]:  # biggest value of pixel is Green\n",
    "        y = cos_wave(random.random(), i[2], random.random(), f0)\n",
    "    yy = yy + y\n",
    "\n",
    "IPython.display.Audio(data=yy, rate=4410)"
   ]
  },
  {
   "cell_type": "code",
   "execution_count": null,
   "metadata": {},
   "outputs": [],
   "source": []
  }
 ],
 "metadata": {
  "kernelspec": {
   "display_name": "Python 3",
   "language": "python",
   "name": "python3"
  }
 },
 "nbformat": 4,
 "nbformat_minor": 2
}
